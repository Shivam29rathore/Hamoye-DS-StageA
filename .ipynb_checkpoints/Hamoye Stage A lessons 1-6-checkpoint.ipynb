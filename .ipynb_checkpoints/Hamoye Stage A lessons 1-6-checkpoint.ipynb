{
 "cells": [
  {
   "cell_type": "markdown",
   "metadata": {},
   "source": [
    "## __Hamoye practice notes Stage A__\n",
    "\n",
    "# Lesson 1 (Introduction to Python for ML)\n",
    "\n",
    "\n",
    "__1.1 : Inroduction__\n",
    "\n",
    "This lesson  introduces to the Data Science and Machine Learning to solve Biggest problem of Human race :<br>\n",
    "Climate change.\n",
    "\n",
    "__Project Objectives are :__\n",
    "\n",
    "1) Work to clean the data, wrangle the data, explore it, provide summary statistics and interesting visualization. We’ll explore the operating costs of individual power plants, see how fuel costs impact the viability of the different generation sources, highlight the competitiveness of renewable electricity and show how the generation mix of different utilities evolved overtime.\n",
    "\n",
    "\n",
    "\n",
    "__1.1.1: Data Science Pipeline:__\n",
    "\n",
    "Steps of the Data Science Project<br>\n",
    "1) Define the Problem.<br>\n",
    "2) Every data science project begins with defining a clear problem it aims to solve or, business/technical questions to provide answers to.<br<br>\n",
    "3) Data is the core of data science, hence, scoping and collecting the right data for a project is very crucial to achieving the required results.<br>\n",
    "4) Wrangling, reviewing and transforming the data from a messy/raw form to a more appropriate state for ease of use.<br>\n",
    "5) It is very essential to clean the data extensively since machine learning models are only as good as the data provided - garbage in garbage out.<br>\n",
    "6) Conducting Exploratory Data Analysis (EDA) on the cleaned data using visualisations and statistical methods give a quick insight into the various patterns and relationships between features in the dataset.<br>\n",
    "7)It is imperative to present findings from the analysis done through visualisations and clear reporting. For most part, the data science pipeline is not a linear process.  Instead, it's an iterative process.<br>\n",
    "\n",
    "\n",
    "__1.1.2: Python for Data Analysis:__\n",
    "\n",
    "Why Python is important for data analysis\n",
    "\n",
    "Python is a programming language widely used by developers and data scientists. It is particularly popular because it is easy to use, has a simple syntax that helps readability and also quick to learn and adapt to. Data can be presented in different forms such as CSV, JSON, Excel files, database etc. Python is very efficient in processing and wrangling most data types. Its massive community makes resources readily available including packages, tools and libraries used in data science some of which are: Pandas, Numpy, Matplotlib, Scikit-Learn and TensorFlow.Jup\n",
    "\n",
    "\n",
    "\n",
    "__1.1.3: Jupyter Notebook and Goolgle collab:__\n",
    "\n",
    "1) Jupyter Notebook a web browser based IDE for Python and R , useful as it has both textual and Graphical way of representation of code for both Developers and Data Scientists.Easy to install via Anaconda open source Python distribution.\n",
    "\n",
    "2) Google Colab is a cloud based Jupyter like notebook with TPU and GPU and serves the same purpose just like Google docs with shareable workspace.\n",
    "\n",
    "\n",
    "__1.1.4 : Libararies for Python Data Analysis:__\n",
    "\n",
    "Pandas, NumPy, SciPy, Matplotlib and Seaborn are essential Python libraries used for data analysis. Numerical computations for arrays and multidimensional matrices in data analysis are often done with the Numeric Python library - NumPy. Pandas is a toolkit built on NumPy with data structures called dataframes used on numerical and time-series data for quick and easy data manipulation, cleaning and analysis.  SciPy can be described as a scientific package that uses NumPy arrays as its basic data structure. Matplotlib and Seaborn are plotting libraries capable of handling large datasets and producing both interactive and statistical graphics. "
   ]
  },
  {
   "cell_type": "code",
   "execution_count": null,
   "metadata": {},
   "outputs": [],
   "source": []
  },
  {
   "cell_type": "markdown",
   "metadata": {},
   "source": [
    "# Lesson 2 (Numpy Array and vectorization)\n",
    "\n",
    "NumPy is a library that has ndarray as its basic data structure used to handle arrays and matrices. A NumPy array has a grid of values all of which are of the same data type, mostly integers and floats. These arrays can also be created from Python lists. Below are some examples:\n"
   ]
  },
  {
   "cell_type": "code",
   "execution_count": 1,
   "metadata": {},
   "outputs": [],
   "source": [
    "# Convention for importing the numpy\n",
    "import numpy as np"
   ]
  },
  {
   "cell_type": "code",
   "execution_count": 2,
   "metadata": {},
   "outputs": [
    {
     "name": "stdout",
     "output_type": "stream",
     "text": [
      "<class 'list'>\n"
     ]
    }
   ],
   "source": [
    "# Creation of numpy array with pyhton list.\n",
    "\n",
    "arr =[1,2,3,4,5]\n",
    "print(type(arr))"
   ]
  },
  {
   "cell_type": "markdown",
   "metadata": {},
   "source": [
    "# 1) Creating a numpy array with different methods:\n"
   ]
  },
  {
   "cell_type": "code",
   "execution_count": 3,
   "metadata": {},
   "outputs": [
    {
     "name": "stdout",
     "output_type": "stream",
     "text": [
      "<class 'numpy.ndarray'>\n",
      "(4,)\n",
      "int64\n",
      "1\n",
      "(2, 3)\n",
      "int64\n",
      "2\n"
     ]
    }
   ],
   "source": [
    "#1) Creating numpy with List.\n",
    "\n",
    "arr =[1,2,3,4]\n",
    "a = np.array(arr)\n",
    "\n",
    "print(type(a))\n",
    "print(a.shape)\n",
    "print(a.dtype)\n",
    "\n",
    "# Get the dimension of the following \n",
    "\n",
    "print(a.ndim)\n",
    "\n",
    "b = np.array([[1,2,3],[1,12,3]])\n",
    "print(b.shape)\n",
    "print(b.dtype)\n",
    "print(b.ndim)\n",
    "\n",
    "\n"
   ]
  },
  {
   "cell_type": "markdown",
   "metadata": {},
   "source": [
    "# 2) Built in Numpy functions"
   ]
  },
  {
   "cell_type": "code",
   "execution_count": 4,
   "metadata": {},
   "outputs": [
    {
     "name": "stdout",
     "output_type": "stream",
     "text": [
      "Random numpy array:  [[0.90051124 0.47143434 0.84070181]\n",
      " [0.18573341 0.73871784 0.92985934]]\n",
      "Zeros numpy array: [[0. 0. 0.]\n",
      " [0. 0. 0.]]\n",
      "Empty numpy array [[0. 0. 0.]\n",
      " [0. 0. 0.]]\n",
      "Indentity matrix: [[1. 0. 0.]\n",
      " [0. 1. 0.]]\n",
      "Full numpy array: [[1 1 1]\n",
      " [1 1 1]]\n"
     ]
    }
   ],
   "source": [
    "#empty(), zeros(), ones(), full(), random.random(), eye(). you can also specify dtype(i.e int, float, stringetc.)\n",
    "\n",
    "\n",
    "#1) a (2X3) Array with random values\n",
    "\n",
    "random = np.random.random((2,3))\n",
    "print(\"Random numpy array: \",random)\n",
    "\n",
    "\n",
    "#2) a (2X3) Array with zeros values\n",
    "\n",
    "zeros = np.zeros((2,3))\n",
    "print(\"Zeros numpy array:\",zeros)\n",
    "\n",
    "#3) a (2X3) Array with empty values\n",
    "\n",
    "empty = np.empty((2,3))\n",
    "print(\"Empty numpy array\",empty)\n",
    "\n",
    "\n",
    "#4) a (2X3) Numpy  Indentiy matrix \n",
    "\n",
    "eye = np.eye(2,3)\n",
    "print('Indentity matrix:',eye)\n",
    "\n",
    "\n",
    "#5) a (2X3) Numpy full Array: specify dimension first then the 'no' to repeat\n",
    "\n",
    "full = np.full((2,3),1,dtype='int')\n",
    "print(\"Full numpy array:\",full)\n",
    "\n"
   ]
  },
  {
   "cell_type": "markdown",
   "metadata": {},
   "source": [
    "# 3) Intra-operability of arrays and scalars.\n",
    "\n",
    "Vectorisation in numpy arrays allows for faster processing by eliminating for loops when dealing with arrays of equal shape. This allows for batch arithmetic operations on the arrays by applying the operator elementwise. Similarly, scalars are also propagated element-wise across an array. For arrays with different sizes, it is impossible to perform element-wise operations instead, numpy handles this by broadcasting provided the dimensions of the arrays are the same or, one of the dimensions of the array is 1."
   ]
  },
  {
   "cell_type": "code",
   "execution_count": 7,
   "metadata": {},
   "outputs": [],
   "source": [
    "c = np.array([[9.0, 8.0, 7.0], [1.0, 2.0, 3.0]])\n",
    "d = np.array([[4.0, 5.0, 6.0], [9.0, 8.0, 7.0]])"
   ]
  },
  {
   "cell_type": "code",
   "execution_count": 9,
   "metadata": {},
   "outputs": [
    {
     "data": {
      "text/plain": [
       "array([[13., 13., 13.],\n",
       "       [10., 10., 10.]])"
      ]
     },
     "execution_count": 9,
     "metadata": {},
     "output_type": "execute_result"
    }
   ],
   "source": [
    "# Adding arrays\n",
    "c+d"
   ]
  },
  {
   "cell_type": "code",
   "execution_count": 10,
   "metadata": {},
   "outputs": [
    {
     "data": {
      "text/plain": [
       "array([[36., 40., 42.],\n",
       "       [ 9., 16., 21.]])"
      ]
     },
     "execution_count": 10,
     "metadata": {},
     "output_type": "execute_result"
    }
   ],
   "source": [
    "# Some basic Arithmatic operations\n",
    "\n",
    "c*d"
   ]
  },
  {
   "cell_type": "code",
   "execution_count": 11,
   "metadata": {},
   "outputs": [
    {
     "data": {
      "text/plain": [
       "array([[1.25      , 1.        , 0.83333333],\n",
       "       [0.55555556, 0.625     , 0.71428571]])"
      ]
     },
     "execution_count": 11,
     "metadata": {},
     "output_type": "execute_result"
    }
   ],
   "source": [
    "5/d"
   ]
  },
  {
   "cell_type": "code",
   "execution_count": 12,
   "metadata": {},
   "outputs": [
    {
     "data": {
      "text/plain": [
       "array([[81., 64., 49.],\n",
       "       [ 1.,  4.,  9.]])"
      ]
     },
     "execution_count": 12,
     "metadata": {},
     "output_type": "execute_result"
    }
   ],
   "source": [
    "c **2"
   ]
  },
  {
   "cell_type": "markdown",
   "metadata": {},
   "source": [
    "# 4) Indexing with arrays & using arrays for data processing\n",
    "The elements in the example arrays above can be accessed by indexing like lists in Python such that:\n",
    "Elements in arrays  can also be retrieved by slicing rows and columns or a combination of indexing and slicing.\n"
   ]
  },
  {
   "cell_type": "code",
   "execution_count": 13,
   "metadata": {},
   "outputs": [],
   "source": [
    "#The elements in the example arrays above can be accessed by indexing like lists in Python such that:\n",
    "a = np.array([1,2,3])\n",
    "c = np.array([[1,2,3],[4,5,6]])"
   ]
  },
  {
   "cell_type": "code",
   "execution_count": 14,
   "metadata": {},
   "outputs": [
    {
     "data": {
      "text/plain": [
       "1"
      ]
     },
     "execution_count": 14,
     "metadata": {},
     "output_type": "execute_result"
    }
   ],
   "source": [
    "a[0]"
   ]
  },
  {
   "cell_type": "code",
   "execution_count": 15,
   "metadata": {},
   "outputs": [
    {
     "data": {
      "text/plain": [
       "1"
      ]
     },
     "execution_count": 15,
     "metadata": {},
     "output_type": "execute_result"
    }
   ],
   "source": [
    "c[0,0]"
   ]
  },
  {
   "cell_type": "code",
   "execution_count": 16,
   "metadata": {},
   "outputs": [
    {
     "data": {
      "text/plain": [
       "array([9., 8.])"
      ]
     },
     "execution_count": 16,
     "metadata": {},
     "output_type": "execute_result"
    }
   ],
   "source": [
    "#Elements in arrays  can also be retrieved by slicing rows and columns or a combination of indexing and slicing.\n",
    "d[1,  0:2]"
   ]
  },
  {
   "cell_type": "code",
   "execution_count": 17,
   "metadata": {},
   "outputs": [
    {
     "name": "stdout",
     "output_type": "stream",
     "text": [
      "[[10 11 12]\n",
      " [13 14 15]\n",
      " [16 17 18]\n",
      " [19 20 21]]\n"
     ]
    }
   ],
   "source": [
    "e = np.array([[10, 11, 12],[13, 14, 15], \n",
    "              [16, 17, 18],[19, 20, 21]])\n",
    "\n",
    "print(e)"
   ]
  },
  {
   "cell_type": "code",
   "execution_count": 18,
   "metadata": {},
   "outputs": [
    {
     "data": {
      "text/plain": [
       "array([[10, 11],\n",
       "       [13, 14],\n",
       "       [16, 17]])"
      ]
     },
     "execution_count": 18,
     "metadata": {},
     "output_type": "execute_result"
    }
   ],
   "source": [
    "e[:3,:2]"
   ]
  },
  {
   "cell_type": "code",
   "execution_count": 19,
   "metadata": {},
   "outputs": [
    {
     "data": {
      "text/plain": [
       "array([18, 11, 19, 15])"
      ]
     },
     "execution_count": 19,
     "metadata": {},
     "output_type": "execute_result"
    }
   ],
   "source": [
    "#There are other advanced methods of indexing which are shown below.\n",
    "# integer indexing\n",
    "e[[2, 0, 3, 1],[2, 1, 0, 2]] #for example 18 is( located at 2,2 and 15 is located at 1,2) note that integers start at zero"
   ]
  },
  {
   "cell_type": "code",
   "execution_count": 21,
   "metadata": {},
   "outputs": [
    {
     "data": {
      "text/plain": [
       "array([16, 17, 18, 19, 20, 21])"
      ]
     },
     "execution_count": 21,
     "metadata": {},
     "output_type": "execute_result"
    }
   ],
   "source": [
    "# boolean indexing meeting a specified condition\n",
    "e[e>15]# ELements greater than 15"
   ]
  },
  {
   "cell_type": "markdown",
   "metadata": {},
   "source": [
    " Numpy also has inbuilt mathematical functions like sum(), mean(), std(), corrcoef(), min() and others. It interestingly allows for comparing arrays using == to check if two arrays have the same elements, elements in the first array are greater than or less than those of the second array using > and <. "
   ]
  },
  {
   "cell_type": "code",
   "execution_count": 23,
   "metadata": {},
   "outputs": [
    {
     "data": {
      "text/plain": [
       "15.5"
      ]
     },
     "execution_count": 23,
     "metadata": {},
     "output_type": "execute_result"
    }
   ],
   "source": [
    "e.mean()"
   ]
  },
  {
   "cell_type": "code",
   "execution_count": 28,
   "metadata": {},
   "outputs": [
    {
     "data": {
      "text/plain": [
       "(186, 3.452052529534663)"
      ]
     },
     "execution_count": 28,
     "metadata": {},
     "output_type": "execute_result"
    }
   ],
   "source": [
    "e.sum(), e.std()"
   ]
  },
  {
   "cell_type": "code",
   "execution_count": 26,
   "metadata": {},
   "outputs": [
    {
     "data": {
      "text/plain": [
       "array([[ 1.,  1.,  1.,  1.,  1., -1.],\n",
       "       [ 1.,  1.,  1.,  1.,  1., -1.],\n",
       "       [ 1.,  1.,  1.,  1.,  1., -1.],\n",
       "       [ 1.,  1.,  1.,  1.,  1., -1.],\n",
       "       [ 1.,  1.,  1.,  1.,  1., -1.],\n",
       "       [-1., -1., -1., -1., -1.,  1.]])"
      ]
     },
     "execution_count": 26,
     "metadata": {},
     "output_type": "execute_result"
    }
   ],
   "source": [
    "np.corrcoef(e,d) #pearson correlation between two arrays"
   ]
  },
  {
   "cell_type": "markdown",
   "metadata": {},
   "source": [
    "## 5) File input and output with arrays Numpy arrays can be loaded from and saved to binary files with .npy as the extension using load() and save() respectively. This can also be done with text files with text files using loadtxt() and savetxt()."
   ]
  },
  {
   "cell_type": "markdown",
   "metadata": {},
   "source": [
    "# Lesson 3 Pandas\t-\tSo\tmuch\tmore\tthan\ta\tcute\tanimal\n",
    "\n",
    "Pandas is a library used for data manipulation and built on Numpy with other ways of indexing other than using integers. Series, DataFrame and index are\n",
    "the basic data structures in this library. Series in pandas can be referred to as a one dimensional array with homogenous elements of different types\n",
    "somewhat similar to numpy arrays however, it can be indexed differently with speciϐied descriptive labels or integers.\n",
    "\n",
    "A DataFrame can be described as a table (2 dimensions) made up of many series with the same index. It holds data in rows and columns just like a\n",
    "spreadsheet. Series, dictionaries, lists other dataframes and numpy arrays can be used to create new ones\n",
    "\n",
    "\n",
    "# 1) Creating Series and DataFrames in many ways"
   ]
  },
  {
   "cell_type": "code",
   "execution_count": 35,
   "metadata": {},
   "outputs": [
    {
     "name": "stdout",
     "output_type": "stream",
     "text": [
      "0       Monday\n",
      "1      Tuesday\n",
      "2    Wednesday\n",
      "dtype: object\n"
     ]
    }
   ],
   "source": [
    "import pandas as pd \n",
    "\n",
    "days = pd.Series(['Monday','Tuesday','Wednesday'])\n",
    "\n",
    "print(days)\n",
    "\n",
    "\n"
   ]
  },
  {
   "cell_type": "code",
   "execution_count": 38,
   "metadata": {},
   "outputs": [
    {
     "name": "stdout",
     "output_type": "stream",
     "text": [
      "0       Monday\n",
      "1      Tuesday\n",
      "2    Wednesday\n",
      "dtype: object\n"
     ]
    }
   ],
   "source": [
    "# Creating a series with numpy array - Only 1D data\n",
    "\n",
    "days_list = np.array(['Monday','Tuesday','Wednesday'])\n",
    "numpy_days = pd.Series(days_list)\n",
    "\n",
    "print(numpy_days)"
   ]
  },
  {
   "cell_type": "code",
   "execution_count": null,
   "metadata": {},
   "outputs": [],
   "source": [
    "# Using strings as Index"
   ]
  }
 ],
 "metadata": {
  "kernelspec": {
   "display_name": "Python 3",
   "language": "python",
   "name": "python3"
  },
  "language_info": {
   "codemirror_mode": {
    "name": "ipython",
    "version": 3
   },
   "file_extension": ".py",
   "mimetype": "text/x-python",
   "name": "python",
   "nbconvert_exporter": "python",
   "pygments_lexer": "ipython3",
   "version": "3.7.6"
  }
 },
 "nbformat": 4,
 "nbformat_minor": 4
}
